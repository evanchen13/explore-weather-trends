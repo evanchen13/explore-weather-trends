{
 "cells": [
  {
   "cell_type": "markdown",
   "metadata": {},
   "source": [
    "# Weather Trends Data Analysis\n",
    "\n",
    "## Table of Contents\n",
    "- <a href='#introduction'>Introduction</a>\n",
    "- <a href='#wrangling'>Data Wrangling</a>\n",
    "- <a href='#analysis'>Exploratory Data Analysis</a>\n",
    "- <a href='#conclusions'>Conclusions</a>\n",
    "- <a href='#sources'>Sources</a>"
   ]
  },
  {
   "cell_type": "markdown",
   "metadata": {},
   "source": [
    "<a id='introduction'></a>\n",
    "## Introduction\n",
    "\n",
    "In this analysis, I will examine global weather data and compare it to weather data from San Jose, CA (where I currently live) and Portland, OR (where I grew up). All of the data comes from a database on Udacity's website that provides annual average temperatures for select cities around the world. The question that will guide this analysis is: **What are the overall trends of annual average temperatures and how do these trends differ between global data, San Jose, and Portland?**\n",
    "\n",
    "Before beginning my exploration of weather trends, I had to download the CSV data files using SQL queries. First, I used the following SQL query to narrow down the list of cities to only those located in the US.\n",
    "\n",
    "```\n",
    "SELECT *\n",
    "FROM city_list\n",
    "WHERE country = 'United States'\n",
    "```\n",
    "\n",
    "Based on the output from the above query, I found that the database contains weather data for San Jose and Portland. As a result, I used the following SQL queries to find the weather data for these two cities. I included both the city and country in the `WHERE` clause in case there were other cities named `'San Jose'` or `'Portland'` in the database.\n",
    "\n",
    "```\n",
    "SELECT *\n",
    "FROM city_data\n",
    "WHERE city = 'San Jose' AND country = 'United States'\n",
    "\n",
    "SELECT *\n",
    "FROM city_data\n",
    "WHERE city = 'Portland' AND country = 'United States'\n",
    "```\n",
    "\n",
    "I downloaded the San Jose results as `results_san_jose.csv` and the Portland results as `results_portland.csv`. Finally, I used the following SQL query to extract all of the global weather data.\n",
    "\n",
    "```\n",
    "SELECT *\n",
    "FROM global_data\n",
    "```\n",
    "\n",
    "I downloaded the global weather data as `results_global.csv`.\n",
    "\n",
    "After saving the CSV files, I now have to import the appropriate libraries and read in the data. I will also print the first few rows of each dataframe to see what they look like."
   ]
  },
  {
   "cell_type": "code",
   "execution_count": 1,
   "metadata": {},
   "outputs": [],
   "source": [
    "import pandas as pd\n",
    "import matplotlib.pyplot as plt\n",
    "%matplotlib inline\n",
    "%config InlineBackend.figure_format='retina'\n",
    "from scipy.stats import pearsonr"
   ]
  },
  {
   "cell_type": "code",
   "execution_count": 2,
   "metadata": {},
   "outputs": [
    {
     "data": {
      "text/html": [
       "<div>\n",
       "<style scoped>\n",
       "    .dataframe tbody tr th:only-of-type {\n",
       "        vertical-align: middle;\n",
       "    }\n",
       "\n",
       "    .dataframe tbody tr th {\n",
       "        vertical-align: top;\n",
       "    }\n",
       "\n",
       "    .dataframe thead th {\n",
       "        text-align: right;\n",
       "    }\n",
       "</style>\n",
       "<table border=\"1\" class=\"dataframe\">\n",
       "  <thead>\n",
       "    <tr style=\"text-align: right;\">\n",
       "      <th></th>\n",
       "      <th>year</th>\n",
       "      <th>city</th>\n",
       "      <th>country</th>\n",
       "      <th>avg_temp</th>\n",
       "    </tr>\n",
       "  </thead>\n",
       "  <tbody>\n",
       "    <tr>\n",
       "      <th>0</th>\n",
       "      <td>1849</td>\n",
       "      <td>San Jose</td>\n",
       "      <td>United States</td>\n",
       "      <td>14.12</td>\n",
       "    </tr>\n",
       "    <tr>\n",
       "      <th>1</th>\n",
       "      <td>1850</td>\n",
       "      <td>San Jose</td>\n",
       "      <td>United States</td>\n",
       "      <td>13.80</td>\n",
       "    </tr>\n",
       "    <tr>\n",
       "      <th>2</th>\n",
       "      <td>1851</td>\n",
       "      <td>San Jose</td>\n",
       "      <td>United States</td>\n",
       "      <td>14.39</td>\n",
       "    </tr>\n",
       "    <tr>\n",
       "      <th>3</th>\n",
       "      <td>1852</td>\n",
       "      <td>San Jose</td>\n",
       "      <td>United States</td>\n",
       "      <td>13.81</td>\n",
       "    </tr>\n",
       "    <tr>\n",
       "      <th>4</th>\n",
       "      <td>1853</td>\n",
       "      <td>San Jose</td>\n",
       "      <td>United States</td>\n",
       "      <td>14.40</td>\n",
       "    </tr>\n",
       "  </tbody>\n",
       "</table>\n",
       "</div>"
      ],
      "text/plain": [
       "   year      city        country  avg_temp\n",
       "0  1849  San Jose  United States     14.12\n",
       "1  1850  San Jose  United States     13.80\n",
       "2  1851  San Jose  United States     14.39\n",
       "3  1852  San Jose  United States     13.81\n",
       "4  1853  San Jose  United States     14.40"
      ]
     },
     "execution_count": 2,
     "metadata": {},
     "output_type": "execute_result"
    }
   ],
   "source": [
    "sj_weather = pd.read_csv('results_san_jose.csv')\n",
    "sj_weather.head()"
   ]
  },
  {
   "cell_type": "code",
   "execution_count": 3,
   "metadata": {},
   "outputs": [
    {
     "data": {
      "text/html": [
       "<div>\n",
       "<style scoped>\n",
       "    .dataframe tbody tr th:only-of-type {\n",
       "        vertical-align: middle;\n",
       "    }\n",
       "\n",
       "    .dataframe tbody tr th {\n",
       "        vertical-align: top;\n",
       "    }\n",
       "\n",
       "    .dataframe thead th {\n",
       "        text-align: right;\n",
       "    }\n",
       "</style>\n",
       "<table border=\"1\" class=\"dataframe\">\n",
       "  <thead>\n",
       "    <tr style=\"text-align: right;\">\n",
       "      <th></th>\n",
       "      <th>year</th>\n",
       "      <th>city</th>\n",
       "      <th>country</th>\n",
       "      <th>avg_temp</th>\n",
       "    </tr>\n",
       "  </thead>\n",
       "  <tbody>\n",
       "    <tr>\n",
       "      <th>0</th>\n",
       "      <td>1828</td>\n",
       "      <td>Portland</td>\n",
       "      <td>United States</td>\n",
       "      <td>9.38</td>\n",
       "    </tr>\n",
       "    <tr>\n",
       "      <th>1</th>\n",
       "      <td>1829</td>\n",
       "      <td>Portland</td>\n",
       "      <td>United States</td>\n",
       "      <td>9.11</td>\n",
       "    </tr>\n",
       "    <tr>\n",
       "      <th>2</th>\n",
       "      <td>1830</td>\n",
       "      <td>Portland</td>\n",
       "      <td>United States</td>\n",
       "      <td>NaN</td>\n",
       "    </tr>\n",
       "    <tr>\n",
       "      <th>3</th>\n",
       "      <td>1831</td>\n",
       "      <td>Portland</td>\n",
       "      <td>United States</td>\n",
       "      <td>NaN</td>\n",
       "    </tr>\n",
       "    <tr>\n",
       "      <th>4</th>\n",
       "      <td>1832</td>\n",
       "      <td>Portland</td>\n",
       "      <td>United States</td>\n",
       "      <td>6.25</td>\n",
       "    </tr>\n",
       "  </tbody>\n",
       "</table>\n",
       "</div>"
      ],
      "text/plain": [
       "   year      city        country  avg_temp\n",
       "0  1828  Portland  United States      9.38\n",
       "1  1829  Portland  United States      9.11\n",
       "2  1830  Portland  United States       NaN\n",
       "3  1831  Portland  United States       NaN\n",
       "4  1832  Portland  United States      6.25"
      ]
     },
     "execution_count": 3,
     "metadata": {},
     "output_type": "execute_result"
    }
   ],
   "source": [
    "pdx_weather = pd.read_csv('results_portland.csv')\n",
    "pdx_weather.head()"
   ]
  },
  {
   "cell_type": "code",
   "execution_count": 4,
   "metadata": {},
   "outputs": [
    {
     "data": {
      "text/html": [
       "<div>\n",
       "<style scoped>\n",
       "    .dataframe tbody tr th:only-of-type {\n",
       "        vertical-align: middle;\n",
       "    }\n",
       "\n",
       "    .dataframe tbody tr th {\n",
       "        vertical-align: top;\n",
       "    }\n",
       "\n",
       "    .dataframe thead th {\n",
       "        text-align: right;\n",
       "    }\n",
       "</style>\n",
       "<table border=\"1\" class=\"dataframe\">\n",
       "  <thead>\n",
       "    <tr style=\"text-align: right;\">\n",
       "      <th></th>\n",
       "      <th>year</th>\n",
       "      <th>avg_temp</th>\n",
       "    </tr>\n",
       "  </thead>\n",
       "  <tbody>\n",
       "    <tr>\n",
       "      <th>0</th>\n",
       "      <td>1750</td>\n",
       "      <td>8.72</td>\n",
       "    </tr>\n",
       "    <tr>\n",
       "      <th>1</th>\n",
       "      <td>1751</td>\n",
       "      <td>7.98</td>\n",
       "    </tr>\n",
       "    <tr>\n",
       "      <th>2</th>\n",
       "      <td>1752</td>\n",
       "      <td>5.78</td>\n",
       "    </tr>\n",
       "    <tr>\n",
       "      <th>3</th>\n",
       "      <td>1753</td>\n",
       "      <td>8.39</td>\n",
       "    </tr>\n",
       "    <tr>\n",
       "      <th>4</th>\n",
       "      <td>1754</td>\n",
       "      <td>8.47</td>\n",
       "    </tr>\n",
       "  </tbody>\n",
       "</table>\n",
       "</div>"
      ],
      "text/plain": [
       "   year  avg_temp\n",
       "0  1750      8.72\n",
       "1  1751      7.98\n",
       "2  1752      5.78\n",
       "3  1753      8.39\n",
       "4  1754      8.47"
      ]
     },
     "execution_count": 4,
     "metadata": {},
     "output_type": "execute_result"
    }
   ],
   "source": [
    "global_weather = pd.read_csv('results_global.csv')\n",
    "global_weather.head()"
   ]
  },
  {
   "cell_type": "markdown",
   "metadata": {},
   "source": [
    "<a id='wrangling'></a>\n",
    "## Data Wrangling\n",
    "\n",
    "### General Properties\n",
    "\n",
    "Next, I will explore the general properties of each dataframe, specifically the shape, number of duplicated rows, data types, missing values, and descriptive statistics. Since I would like to repeat this with all three dataframes, I will create a function to print all of the required information."
   ]
  },
  {
   "cell_type": "code",
   "execution_count": 5,
   "metadata": {},
   "outputs": [],
   "source": [
    "def print_properties(df):\n",
    "    print('Shape: {}'.format(df.shape))\n",
    "    print('\\n')\n",
    "    print('Number of duplicated rows: {}'.format(sum(df.duplicated())))\n",
    "    print('\\n')\n",
    "    print(df.info())\n",
    "    print('\\n')\n",
    "    print(df.describe())"
   ]
  },
  {
   "cell_type": "code",
   "execution_count": 6,
   "metadata": {},
   "outputs": [
    {
     "name": "stdout",
     "output_type": "stream",
     "text": [
      "Shape: (165, 4)\n",
      "\n",
      "\n",
      "Number of duplicated rows: 0\n",
      "\n",
      "\n",
      "<class 'pandas.core.frame.DataFrame'>\n",
      "RangeIndex: 165 entries, 0 to 164\n",
      "Data columns (total 4 columns):\n",
      " #   Column    Non-Null Count  Dtype  \n",
      "---  ------    --------------  -----  \n",
      " 0   year      165 non-null    int64  \n",
      " 1   city      165 non-null    object \n",
      " 2   country   165 non-null    object \n",
      " 3   avg_temp  165 non-null    float64\n",
      "dtypes: float64(1), int64(1), object(2)\n",
      "memory usage: 5.3+ KB\n",
      "None\n",
      "\n",
      "\n",
      "              year    avg_temp\n",
      "count   165.000000  165.000000\n",
      "mean   1931.000000   14.450788\n",
      "std      47.775517    0.504885\n",
      "min    1849.000000   13.220000\n",
      "25%    1890.000000   14.120000\n",
      "50%    1931.000000   14.390000\n",
      "75%    1972.000000   14.760000\n",
      "max    2013.000000   16.230000\n"
     ]
    }
   ],
   "source": [
    "print_properties(sj_weather)"
   ]
  },
  {
   "cell_type": "markdown",
   "metadata": {},
   "source": [
    "The `sj_weather` dataframe looks fine, as there are no duplicated rows, incorrect data types, or missing values. The descriptive statistics also look reasonable, with none of the `avg_temp` values being unreasonably high or low. It is also important to note that the earliest year is 1849 and the most recent year is 2013. I will keep track of this in the other dataframes to make sure that similar timeframes are being compared."
   ]
  },
  {
   "cell_type": "code",
   "execution_count": 7,
   "metadata": {},
   "outputs": [
    {
     "name": "stdout",
     "output_type": "stream",
     "text": [
      "Shape: (186, 4)\n",
      "\n",
      "\n",
      "Number of duplicated rows: 0\n",
      "\n",
      "\n",
      "<class 'pandas.core.frame.DataFrame'>\n",
      "RangeIndex: 186 entries, 0 to 185\n",
      "Data columns (total 4 columns):\n",
      " #   Column    Non-Null Count  Dtype  \n",
      "---  ------    --------------  -----  \n",
      " 0   year      186 non-null    int64  \n",
      " 1   city      186 non-null    object \n",
      " 2   country   186 non-null    object \n",
      " 3   avg_temp  183 non-null    float64\n",
      "dtypes: float64(1), int64(1), object(2)\n",
      "memory usage: 5.9+ KB\n",
      "None\n",
      "\n",
      "\n",
      "              year    avg_temp\n",
      "count   186.000000  183.000000\n",
      "mean   1920.500000    9.759891\n",
      "std      53.837719    0.672585\n",
      "min    1828.000000    6.250000\n",
      "25%    1874.250000    9.335000\n",
      "50%    1920.500000    9.740000\n",
      "75%    1966.750000   10.135000\n",
      "max    2013.000000   11.740000\n"
     ]
    }
   ],
   "source": [
    "print_properties(pdx_weather)"
   ]
  },
  {
   "cell_type": "markdown",
   "metadata": {},
   "source": [
    "There are no duplicated rows or incorrect data types in `pdx_weather`, but there are missing values in the `avg_temp` column. I will print those below to see if there is any particular reason that they are blank. Otherwise, the descriptive statistics here also look reasonable. The earliest year is 1828 and the most recent year is 2013."
   ]
  },
  {
   "cell_type": "code",
   "execution_count": 8,
   "metadata": {},
   "outputs": [
    {
     "data": {
      "text/html": [
       "<div>\n",
       "<style scoped>\n",
       "    .dataframe tbody tr th:only-of-type {\n",
       "        vertical-align: middle;\n",
       "    }\n",
       "\n",
       "    .dataframe tbody tr th {\n",
       "        vertical-align: top;\n",
       "    }\n",
       "\n",
       "    .dataframe thead th {\n",
       "        text-align: right;\n",
       "    }\n",
       "</style>\n",
       "<table border=\"1\" class=\"dataframe\">\n",
       "  <thead>\n",
       "    <tr style=\"text-align: right;\">\n",
       "      <th></th>\n",
       "      <th>year</th>\n",
       "      <th>city</th>\n",
       "      <th>country</th>\n",
       "      <th>avg_temp</th>\n",
       "    </tr>\n",
       "  </thead>\n",
       "  <tbody>\n",
       "    <tr>\n",
       "      <th>2</th>\n",
       "      <td>1830</td>\n",
       "      <td>Portland</td>\n",
       "      <td>United States</td>\n",
       "      <td>NaN</td>\n",
       "    </tr>\n",
       "    <tr>\n",
       "      <th>3</th>\n",
       "      <td>1831</td>\n",
       "      <td>Portland</td>\n",
       "      <td>United States</td>\n",
       "      <td>NaN</td>\n",
       "    </tr>\n",
       "    <tr>\n",
       "      <th>18</th>\n",
       "      <td>1846</td>\n",
       "      <td>Portland</td>\n",
       "      <td>United States</td>\n",
       "      <td>NaN</td>\n",
       "    </tr>\n",
       "  </tbody>\n",
       "</table>\n",
       "</div>"
      ],
      "text/plain": [
       "    year      city        country  avg_temp\n",
       "2   1830  Portland  United States       NaN\n",
       "3   1831  Portland  United States       NaN\n",
       "18  1846  Portland  United States       NaN"
      ]
     },
     "execution_count": 8,
     "metadata": {},
     "output_type": "execute_result"
    }
   ],
   "source": [
    "pdx_weather[pdx_weather.isna().any(axis=1)]"
   ]
  },
  {
   "cell_type": "markdown",
   "metadata": {},
   "source": [
    "The rows above do not look like special cases, so I will use mean imputation to eliminate missing values as part of the data cleaning process."
   ]
  },
  {
   "cell_type": "code",
   "execution_count": 9,
   "metadata": {},
   "outputs": [
    {
     "name": "stdout",
     "output_type": "stream",
     "text": [
      "Shape: (266, 2)\n",
      "\n",
      "\n",
      "Number of duplicated rows: 0\n",
      "\n",
      "\n",
      "<class 'pandas.core.frame.DataFrame'>\n",
      "RangeIndex: 266 entries, 0 to 265\n",
      "Data columns (total 2 columns):\n",
      " #   Column    Non-Null Count  Dtype  \n",
      "---  ------    --------------  -----  \n",
      " 0   year      266 non-null    int64  \n",
      " 1   avg_temp  266 non-null    float64\n",
      "dtypes: float64(1), int64(1)\n",
      "memory usage: 4.3 KB\n",
      "None\n",
      "\n",
      "\n",
      "              year    avg_temp\n",
      "count   266.000000  266.000000\n",
      "mean   1882.500000    8.369474\n",
      "std      76.931788    0.584747\n",
      "min    1750.000000    5.780000\n",
      "25%    1816.250000    8.082500\n",
      "50%    1882.500000    8.375000\n",
      "75%    1948.750000    8.707500\n",
      "max    2015.000000    9.830000\n"
     ]
    }
   ],
   "source": [
    "print_properties(global_weather)"
   ]
  },
  {
   "cell_type": "markdown",
   "metadata": {},
   "source": [
    "There are no duplicated rows, incorrect data types, or missing values in `global_weather`. Additionally, the descriptive statistics look reasonable. The earliest year is 1750 and the most recent year is 2015.\n",
    "\n",
    "The time period that is common to all three dataframes is 1849-2013. This information will be useful when plotting the trends."
   ]
  },
  {
   "cell_type": "markdown",
   "metadata": {},
   "source": [
    "### Data Cleaning\n",
    "\n",
    "Based on the exploration above, the only data cleaning that I will need to perform is mean imputation on `pdx_weather`. I will find the mean of the `avg_temp` column, and then fill all of the missing values with this mean."
   ]
  },
  {
   "cell_type": "code",
   "execution_count": 10,
   "metadata": {},
   "outputs": [
    {
     "data": {
      "text/plain": [
       "9.759890710382514"
      ]
     },
     "execution_count": 10,
     "metadata": {},
     "output_type": "execute_result"
    }
   ],
   "source": [
    "pdx_weather_mean = pdx_weather['avg_temp'].mean()\n",
    "pdx_weather_mean"
   ]
  },
  {
   "cell_type": "code",
   "execution_count": 11,
   "metadata": {},
   "outputs": [],
   "source": [
    "pdx_weather['avg_temp'].fillna(pdx_weather_mean, inplace=True)"
   ]
  },
  {
   "cell_type": "markdown",
   "metadata": {},
   "source": [
    "I will check `pdx_weather` to confirm that there are no longer any missing values before moving on."
   ]
  },
  {
   "cell_type": "code",
   "execution_count": 12,
   "metadata": {},
   "outputs": [
    {
     "name": "stdout",
     "output_type": "stream",
     "text": [
      "<class 'pandas.core.frame.DataFrame'>\n",
      "RangeIndex: 186 entries, 0 to 185\n",
      "Data columns (total 4 columns):\n",
      " #   Column    Non-Null Count  Dtype  \n",
      "---  ------    --------------  -----  \n",
      " 0   year      186 non-null    int64  \n",
      " 1   city      186 non-null    object \n",
      " 2   country   186 non-null    object \n",
      " 3   avg_temp  186 non-null    float64\n",
      "dtypes: float64(1), int64(1), object(2)\n",
      "memory usage: 5.9+ KB\n"
     ]
    }
   ],
   "source": [
    "pdx_weather.info()"
   ]
  },
  {
   "cell_type": "markdown",
   "metadata": {},
   "source": [
    "<a id='analysis'></a>\n",
    "## Exploratory Data Analysis\n",
    "\n",
    "### What are the overall trends of annual average temperatures and how do these trends differ between global data, San Jose, and Portland?\n",
    "\n",
    "Now that the data cleaning is done, I will calculate the moving average for each dataframe. I will use a moving average of 10 years, as this will allow me to see trends over several years without having too much fluctuation."
   ]
  },
  {
   "cell_type": "code",
   "execution_count": 13,
   "metadata": {},
   "outputs": [
    {
     "data": {
      "text/html": [
       "<div>\n",
       "<style scoped>\n",
       "    .dataframe tbody tr th:only-of-type {\n",
       "        vertical-align: middle;\n",
       "    }\n",
       "\n",
       "    .dataframe tbody tr th {\n",
       "        vertical-align: top;\n",
       "    }\n",
       "\n",
       "    .dataframe thead th {\n",
       "        text-align: right;\n",
       "    }\n",
       "</style>\n",
       "<table border=\"1\" class=\"dataframe\">\n",
       "  <thead>\n",
       "    <tr style=\"text-align: right;\">\n",
       "      <th></th>\n",
       "      <th>year</th>\n",
       "      <th>city</th>\n",
       "      <th>country</th>\n",
       "      <th>avg_temp</th>\n",
       "      <th>moving_avg</th>\n",
       "    </tr>\n",
       "  </thead>\n",
       "  <tbody>\n",
       "    <tr>\n",
       "      <th>0</th>\n",
       "      <td>1849</td>\n",
       "      <td>San Jose</td>\n",
       "      <td>United States</td>\n",
       "      <td>14.12</td>\n",
       "      <td>NaN</td>\n",
       "    </tr>\n",
       "    <tr>\n",
       "      <th>1</th>\n",
       "      <td>1850</td>\n",
       "      <td>San Jose</td>\n",
       "      <td>United States</td>\n",
       "      <td>13.80</td>\n",
       "      <td>NaN</td>\n",
       "    </tr>\n",
       "    <tr>\n",
       "      <th>2</th>\n",
       "      <td>1851</td>\n",
       "      <td>San Jose</td>\n",
       "      <td>United States</td>\n",
       "      <td>14.39</td>\n",
       "      <td>NaN</td>\n",
       "    </tr>\n",
       "    <tr>\n",
       "      <th>3</th>\n",
       "      <td>1852</td>\n",
       "      <td>San Jose</td>\n",
       "      <td>United States</td>\n",
       "      <td>13.81</td>\n",
       "      <td>NaN</td>\n",
       "    </tr>\n",
       "    <tr>\n",
       "      <th>4</th>\n",
       "      <td>1853</td>\n",
       "      <td>San Jose</td>\n",
       "      <td>United States</td>\n",
       "      <td>14.40</td>\n",
       "      <td>NaN</td>\n",
       "    </tr>\n",
       "  </tbody>\n",
       "</table>\n",
       "</div>"
      ],
      "text/plain": [
       "   year      city        country  avg_temp  moving_avg\n",
       "0  1849  San Jose  United States     14.12         NaN\n",
       "1  1850  San Jose  United States     13.80         NaN\n",
       "2  1851  San Jose  United States     14.39         NaN\n",
       "3  1852  San Jose  United States     13.81         NaN\n",
       "4  1853  San Jose  United States     14.40         NaN"
      ]
     },
     "execution_count": 13,
     "metadata": {},
     "output_type": "execute_result"
    }
   ],
   "source": [
    "sj_weather['moving_avg'] = sj_weather['avg_temp'].rolling(window=10).mean()\n",
    "sj_weather.head()"
   ]
  },
  {
   "cell_type": "markdown",
   "metadata": {},
   "source": [
    "The first nine rows in the resulting data will have missing values for `moving_avg`, since 10 prior years are needed to calculate the metric. This means that the first year with a moving average is 1858. Because I do not want to make comparisons for years in which there is no data, I will limit the data only to the time period where there are 10-year moving averages for San Jose, Portland, and global data (1858-2013). Because I know that `sj_weather` ends in 2013, I only need to filter for the beginning year."
   ]
  },
  {
   "cell_type": "code",
   "execution_count": 14,
   "metadata": {},
   "outputs": [
    {
     "data": {
      "text/html": [
       "<div>\n",
       "<style scoped>\n",
       "    .dataframe tbody tr th:only-of-type {\n",
       "        vertical-align: middle;\n",
       "    }\n",
       "\n",
       "    .dataframe tbody tr th {\n",
       "        vertical-align: top;\n",
       "    }\n",
       "\n",
       "    .dataframe thead th {\n",
       "        text-align: right;\n",
       "    }\n",
       "</style>\n",
       "<table border=\"1\" class=\"dataframe\">\n",
       "  <thead>\n",
       "    <tr style=\"text-align: right;\">\n",
       "      <th></th>\n",
       "      <th>year</th>\n",
       "      <th>city</th>\n",
       "      <th>country</th>\n",
       "      <th>avg_temp</th>\n",
       "      <th>moving_avg</th>\n",
       "    </tr>\n",
       "  </thead>\n",
       "  <tbody>\n",
       "    <tr>\n",
       "      <th>9</th>\n",
       "      <td>1858</td>\n",
       "      <td>San Jose</td>\n",
       "      <td>United States</td>\n",
       "      <td>14.19</td>\n",
       "      <td>14.177</td>\n",
       "    </tr>\n",
       "    <tr>\n",
       "      <th>10</th>\n",
       "      <td>1859</td>\n",
       "      <td>San Jose</td>\n",
       "      <td>United States</td>\n",
       "      <td>13.71</td>\n",
       "      <td>14.136</td>\n",
       "    </tr>\n",
       "    <tr>\n",
       "      <th>11</th>\n",
       "      <td>1860</td>\n",
       "      <td>San Jose</td>\n",
       "      <td>United States</td>\n",
       "      <td>13.81</td>\n",
       "      <td>14.137</td>\n",
       "    </tr>\n",
       "    <tr>\n",
       "      <th>12</th>\n",
       "      <td>1861</td>\n",
       "      <td>San Jose</td>\n",
       "      <td>United States</td>\n",
       "      <td>14.88</td>\n",
       "      <td>14.186</td>\n",
       "    </tr>\n",
       "    <tr>\n",
       "      <th>13</th>\n",
       "      <td>1862</td>\n",
       "      <td>San Jose</td>\n",
       "      <td>United States</td>\n",
       "      <td>14.43</td>\n",
       "      <td>14.248</td>\n",
       "    </tr>\n",
       "  </tbody>\n",
       "</table>\n",
       "</div>"
      ],
      "text/plain": [
       "    year      city        country  avg_temp  moving_avg\n",
       "9   1858  San Jose  United States     14.19      14.177\n",
       "10  1859  San Jose  United States     13.71      14.136\n",
       "11  1860  San Jose  United States     13.81      14.137\n",
       "12  1861  San Jose  United States     14.88      14.186\n",
       "13  1862  San Jose  United States     14.43      14.248"
      ]
     },
     "execution_count": 14,
     "metadata": {},
     "output_type": "execute_result"
    }
   ],
   "source": [
    "sj_weather_new = sj_weather[sj_weather['year'] >= 1858]\n",
    "sj_weather_new.head()"
   ]
  },
  {
   "cell_type": "markdown",
   "metadata": {},
   "source": [
    "I would like to perform the same process with the other two dataframes, so I will create a function that calculates the 10-year moving average and filters the dataframe."
   ]
  },
  {
   "cell_type": "code",
   "execution_count": 15,
   "metadata": {},
   "outputs": [],
   "source": [
    "def moving_avg(df):\n",
    "    df['moving_avg'] = df['avg_temp'].rolling(window=10).mean()\n",
    "    df_new = df[(df['year'] >= 1858) & (df['year'] <= 2013)]\n",
    "    return df_new"
   ]
  },
  {
   "cell_type": "code",
   "execution_count": 16,
   "metadata": {},
   "outputs": [
    {
     "data": {
      "text/html": [
       "<div>\n",
       "<style scoped>\n",
       "    .dataframe tbody tr th:only-of-type {\n",
       "        vertical-align: middle;\n",
       "    }\n",
       "\n",
       "    .dataframe tbody tr th {\n",
       "        vertical-align: top;\n",
       "    }\n",
       "\n",
       "    .dataframe thead th {\n",
       "        text-align: right;\n",
       "    }\n",
       "</style>\n",
       "<table border=\"1\" class=\"dataframe\">\n",
       "  <thead>\n",
       "    <tr style=\"text-align: right;\">\n",
       "      <th></th>\n",
       "      <th>year</th>\n",
       "      <th>city</th>\n",
       "      <th>country</th>\n",
       "      <th>avg_temp</th>\n",
       "      <th>moving_avg</th>\n",
       "    </tr>\n",
       "  </thead>\n",
       "  <tbody>\n",
       "    <tr>\n",
       "      <th>30</th>\n",
       "      <td>1858</td>\n",
       "      <td>Portland</td>\n",
       "      <td>United States</td>\n",
       "      <td>9.31</td>\n",
       "      <td>9.555</td>\n",
       "    </tr>\n",
       "    <tr>\n",
       "      <th>31</th>\n",
       "      <td>1859</td>\n",
       "      <td>Portland</td>\n",
       "      <td>United States</td>\n",
       "      <td>8.66</td>\n",
       "      <td>9.516</td>\n",
       "    </tr>\n",
       "    <tr>\n",
       "      <th>32</th>\n",
       "      <td>1860</td>\n",
       "      <td>Portland</td>\n",
       "      <td>United States</td>\n",
       "      <td>9.77</td>\n",
       "      <td>9.561</td>\n",
       "    </tr>\n",
       "    <tr>\n",
       "      <th>33</th>\n",
       "      <td>1861</td>\n",
       "      <td>Portland</td>\n",
       "      <td>United States</td>\n",
       "      <td>9.55</td>\n",
       "      <td>9.514</td>\n",
       "    </tr>\n",
       "    <tr>\n",
       "      <th>34</th>\n",
       "      <td>1862</td>\n",
       "      <td>Portland</td>\n",
       "      <td>United States</td>\n",
       "      <td>8.73</td>\n",
       "      <td>9.456</td>\n",
       "    </tr>\n",
       "  </tbody>\n",
       "</table>\n",
       "</div>"
      ],
      "text/plain": [
       "    year      city        country  avg_temp  moving_avg\n",
       "30  1858  Portland  United States      9.31       9.555\n",
       "31  1859  Portland  United States      8.66       9.516\n",
       "32  1860  Portland  United States      9.77       9.561\n",
       "33  1861  Portland  United States      9.55       9.514\n",
       "34  1862  Portland  United States      8.73       9.456"
      ]
     },
     "execution_count": 16,
     "metadata": {},
     "output_type": "execute_result"
    }
   ],
   "source": [
    "pdx_weather_new = moving_avg(pdx_weather)\n",
    "pdx_weather_new.head()"
   ]
  },
  {
   "cell_type": "code",
   "execution_count": 17,
   "metadata": {},
   "outputs": [
    {
     "data": {
      "text/html": [
       "<div>\n",
       "<style scoped>\n",
       "    .dataframe tbody tr th:only-of-type {\n",
       "        vertical-align: middle;\n",
       "    }\n",
       "\n",
       "    .dataframe tbody tr th {\n",
       "        vertical-align: top;\n",
       "    }\n",
       "\n",
       "    .dataframe thead th {\n",
       "        text-align: right;\n",
       "    }\n",
       "</style>\n",
       "<table border=\"1\" class=\"dataframe\">\n",
       "  <thead>\n",
       "    <tr style=\"text-align: right;\">\n",
       "      <th></th>\n",
       "      <th>year</th>\n",
       "      <th>avg_temp</th>\n",
       "      <th>moving_avg</th>\n",
       "    </tr>\n",
       "  </thead>\n",
       "  <tbody>\n",
       "    <tr>\n",
       "      <th>108</th>\n",
       "      <td>1858</td>\n",
       "      <td>8.10</td>\n",
       "      <td>8.038</td>\n",
       "    </tr>\n",
       "    <tr>\n",
       "      <th>109</th>\n",
       "      <td>1859</td>\n",
       "      <td>8.25</td>\n",
       "      <td>8.065</td>\n",
       "    </tr>\n",
       "    <tr>\n",
       "      <th>110</th>\n",
       "      <td>1860</td>\n",
       "      <td>7.96</td>\n",
       "      <td>8.071</td>\n",
       "    </tr>\n",
       "    <tr>\n",
       "      <th>111</th>\n",
       "      <td>1861</td>\n",
       "      <td>7.85</td>\n",
       "      <td>8.038</td>\n",
       "    </tr>\n",
       "    <tr>\n",
       "      <th>112</th>\n",
       "      <td>1862</td>\n",
       "      <td>7.56</td>\n",
       "      <td>7.984</td>\n",
       "    </tr>\n",
       "  </tbody>\n",
       "</table>\n",
       "</div>"
      ],
      "text/plain": [
       "     year  avg_temp  moving_avg\n",
       "108  1858      8.10       8.038\n",
       "109  1859      8.25       8.065\n",
       "110  1860      7.96       8.071\n",
       "111  1861      7.85       8.038\n",
       "112  1862      7.56       7.984"
      ]
     },
     "execution_count": 17,
     "metadata": {},
     "output_type": "execute_result"
    }
   ],
   "source": [
    "global_weather_new = moving_avg(global_weather)\n",
    "global_weather_new.head()"
   ]
  },
  {
   "cell_type": "markdown",
   "metadata": {},
   "source": [
    "Now I will plot the three new dataframes on the same line graph showing moving average temperatures from 1858 to 2013.\n",
    "\n",
    "When I created the initial visualization, the default axis range was around 8-15 degrees Celsius, so that the Portland and global data were at the very bottom, and the San Jose data was at the very top. However, I thought that this would be misleading as it would show a drastic difference between San Jose and the rest of the world. In order to display a less drastic difference, I decided to change the y-axis range to `(6, 17)`."
   ]
  },
  {
   "cell_type": "code",
   "execution_count": 18,
   "metadata": {},
   "outputs": [
    {
     "data": {
      "image/png": "[encoded data removed]",
      "text/plain": [
       "<Figure size 432x288 with 1 Axes>"
      ]
     },
     "metadata": {
      "image/png": {
       "height": 277,
       "width": 393
      },
      "needs_background": "light"
     },
     "output_type": "display_data"
    }
   ],
   "source": [
    "plt.plot(sj_weather_new['year'], sj_weather_new['moving_avg'], label='San Jose, CA')\n",
    "plt.plot(pdx_weather_new['year'], pdx_weather_new['moving_avg'], label='Portland, OR')\n",
    "plt.plot(global_weather_new['year'], global_weather_new['moving_avg'], label='Global')\n",
    "plt.title('10-Yr Moving Avg Temperatures')\n",
    "plt.xlabel('Year')\n",
    "plt.ylabel('Temperature (C)')\n",
    "plt.ylim(6, 17)\n",
    "plt.legend();"
   ]
  },
  {
   "cell_type": "markdown",
   "metadata": {},
   "source": [
    "The 10-year moving average temperatures appear to have increased slightly over 1858-2013. San Jose is consistently the warmer than Portland, and both cities are consistently warmer than the global average.\n",
    "\n",
    "I will also use Pearson’s correlation coefficient to see the correlations between global and local averages, for both San Jose and Portland."
   ]
  },
  {
   "cell_type": "code",
   "execution_count": 19,
   "metadata": {},
   "outputs": [
    {
     "data": {
      "text/html": [
       "<div>\n",
       "<style scoped>\n",
       "    .dataframe tbody tr th:only-of-type {\n",
       "        vertical-align: middle;\n",
       "    }\n",
       "\n",
       "    .dataframe tbody tr th {\n",
       "        vertical-align: top;\n",
       "    }\n",
       "\n",
       "    .dataframe thead th {\n",
       "        text-align: right;\n",
       "    }\n",
       "</style>\n",
       "<table border=\"1\" class=\"dataframe\">\n",
       "  <thead>\n",
       "    <tr style=\"text-align: right;\">\n",
       "      <th></th>\n",
       "      <th>year</th>\n",
       "      <th>avg_temp_x</th>\n",
       "      <th>moving_avg_x</th>\n",
       "      <th>city</th>\n",
       "      <th>country</th>\n",
       "      <th>avg_temp_y</th>\n",
       "      <th>moving_avg_y</th>\n",
       "    </tr>\n",
       "  </thead>\n",
       "  <tbody>\n",
       "    <tr>\n",
       "      <th>0</th>\n",
       "      <td>1858</td>\n",
       "      <td>8.10</td>\n",
       "      <td>8.038</td>\n",
       "      <td>San Jose</td>\n",
       "      <td>United States</td>\n",
       "      <td>14.19</td>\n",
       "      <td>14.177</td>\n",
       "    </tr>\n",
       "    <tr>\n",
       "      <th>1</th>\n",
       "      <td>1859</td>\n",
       "      <td>8.25</td>\n",
       "      <td>8.065</td>\n",
       "      <td>San Jose</td>\n",
       "      <td>United States</td>\n",
       "      <td>13.71</td>\n",
       "      <td>14.136</td>\n",
       "    </tr>\n",
       "    <tr>\n",
       "      <th>2</th>\n",
       "      <td>1860</td>\n",
       "      <td>7.96</td>\n",
       "      <td>8.071</td>\n",
       "      <td>San Jose</td>\n",
       "      <td>United States</td>\n",
       "      <td>13.81</td>\n",
       "      <td>14.137</td>\n",
       "    </tr>\n",
       "    <tr>\n",
       "      <th>3</th>\n",
       "      <td>1861</td>\n",
       "      <td>7.85</td>\n",
       "      <td>8.038</td>\n",
       "      <td>San Jose</td>\n",
       "      <td>United States</td>\n",
       "      <td>14.88</td>\n",
       "      <td>14.186</td>\n",
       "    </tr>\n",
       "    <tr>\n",
       "      <th>4</th>\n",
       "      <td>1862</td>\n",
       "      <td>7.56</td>\n",
       "      <td>7.984</td>\n",
       "      <td>San Jose</td>\n",
       "      <td>United States</td>\n",
       "      <td>14.43</td>\n",
       "      <td>14.248</td>\n",
       "    </tr>\n",
       "  </tbody>\n",
       "</table>\n",
       "</div>"
      ],
      "text/plain": [
       "   year  avg_temp_x  moving_avg_x      city        country  avg_temp_y  \\\n",
       "0  1858        8.10         8.038  San Jose  United States       14.19   \n",
       "1  1859        8.25         8.065  San Jose  United States       13.71   \n",
       "2  1860        7.96         8.071  San Jose  United States       13.81   \n",
       "3  1861        7.85         8.038  San Jose  United States       14.88   \n",
       "4  1862        7.56         7.984  San Jose  United States       14.43   \n",
       "\n",
       "   moving_avg_y  \n",
       "0        14.177  \n",
       "1        14.136  \n",
       "2        14.137  \n",
       "3        14.186  \n",
       "4        14.248  "
      ]
     },
     "execution_count": 19,
     "metadata": {},
     "output_type": "execute_result"
    }
   ],
   "source": [
    "global_sj = global_weather_new.merge(sj_weather_new, on='year', how='inner')\n",
    "global_sj.head()"
   ]
  },
  {
   "cell_type": "code",
   "execution_count": 20,
   "metadata": {},
   "outputs": [
    {
     "name": "stdout",
     "output_type": "stream",
     "text": [
      "0.8160181708830256\n"
     ]
    }
   ],
   "source": [
    "corr_sj, _ = pearsonr(global_sj['moving_avg_x'], global_sj['moving_avg_y'])\n",
    "print(corr_sj)"
   ]
  },
  {
   "cell_type": "markdown",
   "metadata": {},
   "source": [
    "This shows a strong positive correlation between global and San Jose moving averages.\n",
    "\n",
    "I would like to repeat the same process with global and Portland data, so I will create a function to merge the dataframes and find the correlation coefficient."
   ]
  },
  {
   "cell_type": "code",
   "execution_count": 21,
   "metadata": {},
   "outputs": [],
   "source": [
    "def corr(df1, df2):\n",
    "    df_merge = df1.merge(df2, on='year', how='inner')\n",
    "    corr, _ = pearsonr(df_merge['moving_avg_x'], df_merge['moving_avg_y'])\n",
    "    return corr"
   ]
  },
  {
   "cell_type": "code",
   "execution_count": 22,
   "metadata": {},
   "outputs": [
    {
     "data": {
      "text/plain": [
       "0.8849947071599427"
      ]
     },
     "execution_count": 22,
     "metadata": {},
     "output_type": "execute_result"
    }
   ],
   "source": [
    "corr(global_weather_new, pdx_weather_new)"
   ]
  },
  {
   "cell_type": "markdown",
   "metadata": {},
   "source": [
    "This also shows a strong positive correlation between global and Portland moving averages. The correlation is stronger between global and Portland compared to global and San Jose."
   ]
  },
  {
   "cell_type": "markdown",
   "metadata": {},
   "source": [
    "<a id='conclusions'></a>\n",
    "## Conclusions\n",
    "\n",
    "All findings presented here are tentative. I have only explored correlations and am not implying any causation.\n",
    "\n",
    "After creating the visualization, I was initially surprised that the moving average temperatures of both San Jose and Portland were consistently above the moving average of the rest of the world, as I would have expected them both to be around the global average (the weather in these cities do not seem significantly hotter or cooler than other locations on Earth). During the period of 1858-2013, the global average was never higher than that of San Jose or Portland. However, the San Jose and Portland moving averages were higher to different extents. San Jose consistently seemed to be around 6 degrees warmer than the average, while Portland was around 1.5 degrees warmer. \n",
    "\n",
    "It is also interesting to note that none of the lines are straight, meaning that there was not a consistent increase or decrease throughout the time period. Rather, the moving averages underwent small cycles of rising and falling temperatures. These fluctuations were more noticeable in Portland’s weather, while the global average had the least fluctuation.\n",
    "\n",
    "Another observation is that the moving average temperatures increased slightly over 1858-2013, more noticeably in the latter half of the time period. Interestingly, the global average seemed to start increasing as early as 1920, while San Jose and Portland appeared to fluctuate within the same temperature range until around 1970.\n",
    "\n",
    "Finally, in San Jose and Portland, the cyclical ups and downs of the average temperatures were less distinct beginning in 1970, around the time when the temperature began to rise. At this point, the averages became more of a steady upward trend with less distinct fluctuations."
   ]
  },
  {
   "cell_type": "markdown",
   "metadata": {},
   "source": [
    "<a id='sources'></a>\n",
    "## Sources\n",
    "\n",
    "- [How scientists measure global temperature](https://www.carbonbrief.org/explainer-how-do-scientists-measure-global-temperature)\n",
    "- [Calculate moving averages](https://www.datacamp.com/community/tutorials/moving-averages-in-pandas)\n",
    "- [Pearson's correlation coefficient](https://machinelearningmastery.com/how-to-use-correlation-to-understand-the-relationship-between-variables/)"
   ]
  }
 ],
 "metadata": {
  "kernelspec": {
   "display_name": "Python 3",
   "language": "python",
   "name": "python3"
  },
  "language_info": {
   "codemirror_mode": {
    "name": "ipython",
    "version": 3
   },
   "file_extension": ".py",
   "mimetype": "text/x-python",
   "name": "python",
   "nbconvert_exporter": "python",
   "pygments_lexer": "ipython3",
   "version": "3.7.7"
  }
 },
 "nbformat": 4,
 "nbformat_minor": 4
}
